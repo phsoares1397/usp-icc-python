{
  "nbformat": 4,
  "nbformat_minor": 0,
  "metadata": {
    "colab": {
      "provenance": [],
      "authorship_tag": "ABX9TyP3B5DXNjz/7IVysE3gdSUX",
      "include_colab_link": true
    },
    "kernelspec": {
      "name": "python3",
      "display_name": "Python 3"
    },
    "language_info": {
      "name": "python"
    }
  },
  "cells": [
    {
      "cell_type": "markdown",
      "metadata": {
        "id": "view-in-github",
        "colab_type": "text"
      },
      "source": [
        "<a href=\"https://colab.research.google.com/github/phsoares1397/usp-icc-python/blob/main/aula07.ipynb\" target=\"_parent\"><img src=\"https://colab.research.google.com/assets/colab-badge.svg\" alt=\"Open In Colab\"/></a>"
      ]
    },
    {
      "cell_type": "code",
      "execution_count": null,
      "metadata": {
        "colab": {
          "base_uri": "https://localhost:8080/"
        },
        "id": "9oUCRnhsaeBz",
        "outputId": "ceaf0284-078d-41fe-a124-229998ee1d90"
      },
      "outputs": [
        {
          "output_type": "stream",
          "name": "stdout",
          "text": [
            "Informe a nota do aluno: 10\n",
            "\n",
            "O conceito do aluno é A\n"
          ]
        }
      ],
      "source": [
        "# Programa que lê a nota de um aluno e atribui um conceito de A a E.\n",
        "\n",
        "def main():\n",
        "    nota = float(input(\"Informe a nota do aluno: \"))\n",
        "    conceito = \"\"\n",
        "\n",
        "    # Verifica em qual faixa a nota se enquadra\n",
        "    if nota > 8.6:\n",
        "        conceito = \"A\"\n",
        "    elif nota >= 6.5:\n",
        "        conceito = \"B\"\n",
        "    elif nota >= 5:\n",
        "        conceito = \"C\"\n",
        "    elif nota >= 3:\n",
        "        conceito = \"D\"\n",
        "    else:\n",
        "        conceito = \"E\"\n",
        "\n",
        "    print(f\"\\nO conceito do aluno é {conceito}\")\n",
        "\n",
        "main()"
      ]
    },
    {
      "cell_type": "code",
      "source": [
        "# Programa que calcula o IMC a partir do peso e altura e classifica a situação do usuário.\n",
        "\n",
        "def main():\n",
        "    # Entrada de peso e altura\n",
        "    peso = float(input(\"Informe o seu peso (kg): \"))\n",
        "    altura = float(input(\"Informe a sua altura (m): \"))\n",
        "\n",
        "    # Cálculo do IMC\n",
        "    imc = peso / (altura ** 2)\n",
        "    situacao = \"\"\n",
        "\n",
        "    # Classificação do IMC\n",
        "    if imc < 18.5:\n",
        "        situacao = \"abaixo do peso ideal\"\n",
        "    elif imc < 25:\n",
        "        situacao = \"no peso ideal\"\n",
        "    elif imc < 30:\n",
        "        situacao = \"acima do peso ideal\"\n",
        "    else:\n",
        "        situacao = \"obeso\"\n",
        "\n",
        "    # Exibe o resultado\n",
        "    print(f\"\\n\\nDe acordo com os dados informados, seu imc é {round(imc, 2)} e você está {situacao}\")\n",
        "\n",
        "main()"
      ],
      "metadata": {
        "colab": {
          "base_uri": "https://localhost:8080/"
        },
        "id": "CXkjpwXjcjNC",
        "outputId": "5aa57a79-1cd6-4ae3-e937-0b0b7b5a1807"
      },
      "execution_count": null,
      "outputs": [
        {
          "output_type": "stream",
          "name": "stdout",
          "text": [
            "Informe o seu peso (kg): 90\n",
            "Informe a sua altura (m): 1.75\n",
            "\n",
            "\n",
            "De acordo com os dados informados, seu imc é 29.39 e você está acima do peso ideal\n"
          ]
        }
      ]
    },
    {
      "cell_type": "code",
      "source": [
        "# Programa que calcula uma aproximação de pi usando o método de Arquimedes com polígonos regulares.\n",
        "\n",
        "import math\n",
        "\n",
        "def main():\n",
        "    # Introdução e entrada da quantidade de lados\n",
        "    print(\"Vamos calcular o valor de pi pelo método de Arquimedes\")\n",
        "    lados = int(input(\"\\nInforme a quantidade de lados: \"))\n",
        "\n",
        "    # Parâmetros iniciais: hexágono inscrito no círculo de raio 1\n",
        "    n = 6\n",
        "    lado_n = 1\n",
        "    pi = n * lado_n / 2\n",
        "\n",
        "    # Calcula o comprimento do lado para polígonos com mais lados\n",
        "    while n < lados:\n",
        "        n *= 2\n",
        "        lado_n = math.sqrt(2 - 2 * (math.sqrt(1 - lado_n**2 / 4)))\n",
        "\n",
        "    # Cálculo final de pi\n",
        "    pi = n * lado_n / 2\n",
        "    print(f\"\\n\\nO valor de pi é {pi}\")\n",
        "\n",
        "main()"
      ],
      "metadata": {
        "colab": {
          "base_uri": "https://localhost:8080/"
        },
        "id": "XDt14bv2fkL8",
        "outputId": "0c6736c4-9bf6-477b-e86c-b6cdf836876f"
      },
      "execution_count": null,
      "outputs": [
        {
          "output_type": "stream",
          "name": "stdout",
          "text": [
            "Vamos calcular o valor de pi pelo método de Arquimedes\n",
            "\n",
            "Informe a quantidade de lados: 20000\n",
            "\n",
            "\n",
            "O valor de pi é 3.1415926453212157\n"
          ]
        }
      ]
    },
    {
      "cell_type": "code",
      "source": [
        "# Programa que desenha um quadrado colorido usando ColabTurtle.\n",
        "\n",
        "!pip3 install ColabTurtle\n",
        "import ColabTurtle.Turtle as turtle\n",
        "\n",
        "def main():\n",
        "    # Inicializa a tartaruga e limpa a tela\n",
        "    turtle.initializeTurtle()\n",
        "    turtle.clear()\n",
        "    turtle.speed()\n",
        "\n",
        "    # Lista de cores para cada lado\n",
        "    cores = [\"red\", \"green\", \"blue\", \"yellow\"]\n",
        "    i = 0\n",
        "\n",
        "    # Desenha um quadrado, mudando a cor de cada lado\n",
        "    while i < 4:\n",
        "        turtle.pencolor(cores[i])\n",
        "        turtle.forward(100)\n",
        "        turtle.right(90)\n",
        "        i += 1\n",
        "\n",
        "main()"
      ],
      "metadata": {
        "colab": {
          "base_uri": "https://localhost:8080/",
          "height": 539
        },
        "id": "mo2eTuASpiQO",
        "outputId": "eb9dd53f-0be4-408c-c414-058cceb1cc1b"
      },
      "execution_count": null,
      "outputs": [
        {
          "output_type": "stream",
          "name": "stdout",
          "text": [
            "Requirement already satisfied: ColabTurtle in /usr/local/lib/python3.12/dist-packages (2.1.0)\n"
          ]
        },
        {
          "output_type": "display_data",
          "data": {
            "text/plain": [
              "<IPython.core.display.HTML object>"
            ],
            "text/html": [
              "\n",
              "      <svg width=\"800\" height=\"500\">\n",
              "        <rect width=\"100%\" height=\"100%\" fill=\"black\"/>\n",
              "        <line x1=\"400\" y1=\"250\" x2=\"400.0\" y2=\"150.0\" stroke-linecap=\"round\" style=\"stroke:red;stroke-width:4\"/><line x1=\"400.0\" y1=\"150.0\" x2=\"500.0\" y2=\"150.0\" stroke-linecap=\"round\" style=\"stroke:green;stroke-width:4\"/><line x1=\"500.0\" y1=\"150.0\" x2=\"500.0\" y2=\"250.0\" stroke-linecap=\"round\" style=\"stroke:blue;stroke-width:4\"/><line x1=\"500.0\" y1=\"250.0\" x2=\"400.0\" y2=\"250.0\" stroke-linecap=\"round\" style=\"stroke:yellow;stroke-width:4\"/>\n",
              "        <g visibility=visible transform=\"rotate(360,400.0,250.0) translate(382.0, 232.0)\">\n",
              "<path style=\" stroke:none;fill-rule:evenodd;fill:yellow;fill-opacity:1;\" d=\"M 18.214844 0.632812 C 16.109375 1.800781 15.011719 4.074219 15.074219 7.132812 L 15.085938 7.652344 L 14.785156 7.496094 C 13.476562 6.824219 11.957031 6.671875 10.40625 7.066406 C 8.46875 7.550781 6.515625 9.15625 4.394531 11.992188 C 3.0625 13.777344 2.679688 14.636719 3.042969 15.027344 L 3.15625 15.152344 L 3.519531 15.152344 C 4.238281 15.152344 4.828125 14.886719 8.1875 13.039062 C 9.386719 12.378906 10.371094 11.839844 10.378906 11.839844 C 10.386719 11.839844 10.355469 11.929688 10.304688 12.035156 C 9.832031 13.09375 9.257812 14.820312 8.96875 16.078125 C 7.914062 20.652344 8.617188 24.53125 11.070312 27.660156 C 11.351562 28.015625 11.363281 27.914062 10.972656 28.382812 C 8.925781 30.84375 7.945312 33.28125 8.238281 35.1875 C 8.289062 35.527344 8.28125 35.523438 8.917969 35.523438 C 10.941406 35.523438 13.074219 34.207031 15.136719 31.6875 C 15.359375 31.417969 15.328125 31.425781 15.5625 31.574219 C 16.292969 32.042969 18.023438 32.964844 18.175781 32.964844 C 18.335938 32.964844 19.941406 32.210938 20.828125 31.71875 C 20.996094 31.625 21.136719 31.554688 21.136719 31.558594 C 21.203125 31.664062 21.898438 32.414062 22.222656 32.730469 C 23.835938 34.300781 25.5625 35.132812 27.582031 35.300781 C 27.90625 35.328125 27.9375 35.308594 28.007812 34.984375 C 28.382812 33.242188 27.625 30.925781 25.863281 28.425781 L 25.542969 27.96875 L 25.699219 27.785156 C 28.945312 23.960938 29.132812 18.699219 26.257812 11.96875 L 26.207031 11.84375 L 27.945312 12.703125 C 31.53125 14.476562 32.316406 14.800781 33.03125 14.800781 C 33.976562 14.800781 33.78125 13.9375 32.472656 12.292969 C 28.519531 7.355469 25.394531 5.925781 21.921875 7.472656 L 21.558594 7.636719 L 21.578125 7.542969 C 21.699219 6.992188 21.761719 5.742188 21.699219 5.164062 C 21.496094 3.296875 20.664062 1.964844 19.003906 0.855469 C 18.480469 0.503906 18.457031 0.5 18.214844 0.632812\"/>\n",
              "</g>\n",
              "      </svg>\n",
              "    "
            ]
          },
          "metadata": {}
        }
      ]
    },
    {
      "cell_type": "code",
      "source": [
        "# Programa que encontra o maior e o menor elemento de uma lista.\n",
        "\n",
        "def main():\n",
        "    # Lista de exemplo\n",
        "    lista = [2, 23, -7, 0, 18]\n",
        "    maior = lista[0]\n",
        "    menor = lista[0]\n",
        "\n",
        "    # Percorre a lista para encontrar o maior e o menor elemento\n",
        "    for i in lista:\n",
        "        if i < menor:\n",
        "            menor = i\n",
        "        if i > maior:\n",
        "            maior = i\n",
        "\n",
        "    # Exibe os resultados\n",
        "    print(f\"O maior elemento da lista é {maior} e o menor é {menor}\")\n",
        "\n",
        "main()"
      ],
      "metadata": {
        "colab": {
          "base_uri": "https://localhost:8080/"
        },
        "id": "T4N6p3A-rQCM",
        "outputId": "8670f35e-7c0a-40db-921f-cf3f69851ed7"
      },
      "execution_count": null,
      "outputs": [
        {
          "output_type": "stream",
          "name": "stdout",
          "text": [
            "O maior elemento da lista é 23 e o menor é -7\n"
          ]
        }
      ]
    },
    {
      "cell_type": "code",
      "source": [
        "# Programa que calcula a soma dos elementos de uma lista.\n",
        "\n",
        "def main():\n",
        "    # Lista de exemplo\n",
        "    lista = [2, 23, -7, 0, 18]\n",
        "    soma = 0\n",
        "\n",
        "    # Soma todos os elementos da lista\n",
        "    for i in lista:\n",
        "        soma += i\n",
        "\n",
        "    # Exibe o resultado\n",
        "    print(f\"A soma dos elementos da lista é {soma}\")\n",
        "\n",
        "main()"
      ],
      "metadata": {
        "colab": {
          "base_uri": "https://localhost:8080/"
        },
        "id": "TqEjIjVPtrF5",
        "outputId": "3e54ce24-a311-4936-ccdd-a0a328189d2c"
      },
      "execution_count": null,
      "outputs": [
        {
          "output_type": "stream",
          "name": "stdout",
          "text": [
            "A soma dos elementos da lista é 36\n"
          ]
        }
      ]
    },
    {
      "cell_type": "code",
      "source": [
        "# Programa que cria uma lista de músicas a partir da entrada do usuário.\n",
        "\n",
        "def main():\n",
        "    # Número de músicas a serem adicionadas\n",
        "    n = int(input(\"Quantas músicas? \"))\n",
        "    lista = []\n",
        "\n",
        "    # Adiciona cada música à lista\n",
        "    i = 0\n",
        "    while i < n:\n",
        "        nova_musica = input(f\"Digite o nome da música de ordem {i+1}: \")\n",
        "        lista.append(nova_musica)\n",
        "        i += 1\n",
        "\n",
        "    # Exibe a lista completa de músicas\n",
        "    print(f\"\\n\\nA lista de músicas é {lista}\")\n",
        "\n",
        "main()"
      ],
      "metadata": {
        "colab": {
          "base_uri": "https://localhost:8080/"
        },
        "id": "naT4qW_XvM8x",
        "outputId": "05a8c5ed-b994-44ec-8ccd-60946f651fc5"
      },
      "execution_count": null,
      "outputs": [
        {
          "output_type": "stream",
          "name": "stdout",
          "text": [
            "Quantas músicas? 3\n",
            "Digite o nome da músida de ordem 1: sdsa\n",
            "Digite o nome da músida de ordem 2: dsadw\n",
            "Digite o nome da músida de ordem 3: dwes\n",
            "A lista de músicas é ['sdsa', 'dsadw', 'dwes']\n"
          ]
        }
      ]
    },
    {
      "cell_type": "code",
      "source": [],
      "metadata": {
        "id": "qgAKrQaiqg_k"
      },
      "execution_count": null,
      "outputs": []
    }
  ]
}