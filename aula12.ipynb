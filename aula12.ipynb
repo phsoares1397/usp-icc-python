{
  "nbformat": 4,
  "nbformat_minor": 0,
  "metadata": {
    "colab": {
      "provenance": [],
      "authorship_tag": "ABX9TyOIaRrrrnKC9vw/V/g8CGid",
      "include_colab_link": true
    },
    "kernelspec": {
      "name": "python3",
      "display_name": "Python 3"
    },
    "language_info": {
      "name": "python"
    }
  },
  "cells": [
    {
      "cell_type": "markdown",
      "metadata": {
        "id": "view-in-github",
        "colab_type": "text"
      },
      "source": [
        "<a href=\"https://colab.research.google.com/github/phsoares1397/usp-icc-python/blob/main/aula12.ipynb\" target=\"_parent\"><img src=\"https://colab.research.google.com/assets/colab-badge.svg\" alt=\"Open In Colab\"/></a>"
      ]
    },
    {
      "cell_type": "code",
      "execution_count": 1,
      "metadata": {
        "id": "1oAKKpIhaqx7"
      },
      "outputs": [],
      "source": [
        "# Função que verifica se um número é primo.\n",
        "\n",
        "def ePrimo(x):\n",
        "    # Trata o caso especial do número 2\n",
        "    if x == 2:\n",
        "        return True\n",
        "\n",
        "    # Verifica se o número tem algum divisor além de 1 e ele mesmo\n",
        "    for i in range(2, x):\n",
        "        if x % i == 0:\n",
        "            return False\n",
        "\n",
        "    # Se não encontrou divisores, o número é primo\n",
        "    return True"
      ]
    },
    {
      "cell_type": "code",
      "source": [
        "# Função que retorna o próximo número primo após o número x.\n",
        "\n",
        "def proximoPrimo(x):\n",
        "    y = x + 1\n",
        "\n",
        "    # Incrementa y até encontrar um número primo\n",
        "    while not ePrimo(y):\n",
        "        y += 1\n",
        "\n",
        "    return y"
      ],
      "metadata": {
        "id": "tzB-le08iadO"
      },
      "execution_count": 2,
      "outputs": []
    },
    {
      "cell_type": "code",
      "source": [
        "# Função que retorna todos os números primos menores que x.\n",
        "\n",
        "def primeirosPrimos_(x):\n",
        "    primos = [2]  # Inicializa a lista com o primeiro primo\n",
        "\n",
        "    # Verifica todos os números de 3 até x-1\n",
        "    for i in range(3, x):\n",
        "        if ePrimo(i):\n",
        "            primos.append(i)\n",
        "\n",
        "    return primos"
      ],
      "metadata": {
        "id": "RLNkEiiEkLdu"
      },
      "execution_count": 3,
      "outputs": []
    },
    {
      "cell_type": "code",
      "source": [
        "# Função que retorna os primeiros x números primos.\n",
        "\n",
        "def primeirosPrimos(x):\n",
        "    primos = [2]  # Inicializa a lista com o primeiro primo\n",
        "    y = 3\n",
        "\n",
        "    # Continua adicionando primos até atingir a quantidade desejada\n",
        "    while len(primos) < x:\n",
        "        if ePrimo(y):\n",
        "            primos.append(y)\n",
        "        y += 1\n",
        "\n",
        "    return primos\n",
        "\n",
        "# Teste da função\n",
        "print(primeirosPrimos(10))"
      ],
      "metadata": {
        "colab": {
          "base_uri": "https://localhost:8080/"
        },
        "id": "h0fpsk5UlcLt",
        "outputId": "9f98bbee-8d6e-482b-c014-85ae47944e61"
      },
      "execution_count": 4,
      "outputs": [
        {
          "output_type": "stream",
          "name": "stdout",
          "text": [
            "[2, 3, 5, 7, 11, 13, 17, 19, 23, 29]\n"
          ]
        }
      ]
    },
    {
      "cell_type": "code",
      "source": [
        "# Função que verifica se uma lista contém pelo menos um número primo.\n",
        "\n",
        "def contemPrimo(x):\n",
        "    # Verifica cada elemento da lista\n",
        "    for i in x:\n",
        "        if ePrimo(i):\n",
        "            return True\n",
        "\n",
        "    # Retorna False se nenhum elemento for primo\n",
        "    return False\n",
        "\n",
        "# Testes da função\n",
        "print(contemPrimo([1,2,3,4,5,6,7,8,9,10]))\n",
        "print(contemPrimo([4,6,8,9]))"
      ],
      "metadata": {
        "colab": {
          "base_uri": "https://localhost:8080/"
        },
        "id": "5EJ3sqpdl-R7",
        "outputId": "aa149ed9-747d-47d2-9ee0-990c7d0a3b2a"
      },
      "execution_count": null,
      "outputs": [
        {
          "output_type": "stream",
          "name": "stdout",
          "text": [
            "True\n",
            "False\n"
          ]
        }
      ]
    },
    {
      "cell_type": "code",
      "source": [
        "# Função que insere um elemento em uma lista apenas se ele ainda não estiver presente.\n",
        "\n",
        "def insere_se_novo(l, n):\n",
        "    # Verifica se o elemento já está na lista\n",
        "    for i in l:\n",
        "        if i == n:\n",
        "            return l\n",
        "\n",
        "    # Se não estiver, adiciona o elemento\n",
        "    l.append(n)\n",
        "    return l\n",
        "\n",
        "# Testes da função\n",
        "x = [1,2,3,4]\n",
        "x = insere_se_novo(x, 2)  # Não insere, pois 2 já está na lista\n",
        "print(x)\n",
        "x = insere_se_novo(x, 5)  # Insere 5, pois não está na lista\n",
        "print(x)"
      ],
      "metadata": {
        "colab": {
          "base_uri": "https://localhost:8080/"
        },
        "id": "tmDfnxgcnYy7",
        "outputId": "eb3f8c72-cffc-44f8-d7cb-416a3692e8f3"
      },
      "execution_count": 5,
      "outputs": [
        {
          "output_type": "stream",
          "name": "stdout",
          "text": [
            "[1, 2, 3, 4]\n",
            "[1, 2, 3, 4, 5]\n"
          ]
        }
      ]
    },
    {
      "cell_type": "code",
      "source": [
        "# Programa que gera uma setlist de músicas a partir da entrada do usuário e a imprime.\n",
        "\n",
        "def geraSetList():\n",
        "    # Entrada do número de músicas\n",
        "    n = int(input(\"Quantas músicas? \"))\n",
        "    lista = []\n",
        "    i = 0\n",
        "\n",
        "    # Adiciona cada música à lista\n",
        "    while i < n:\n",
        "        nova_musica = input(f\"Digite o nome da música de ordem {i+1}: \")\n",
        "        lista.append(nova_musica)\n",
        "        i += 1\n",
        "\n",
        "    return lista\n",
        "\n",
        "def imprime_setlist(lista):\n",
        "    # Exibe a lista completa de músicas\n",
        "    print(f\"\\n\\nA lista de músicas é\")\n",
        "    for i in lista:\n",
        "        print(i)\n",
        "\n",
        "# Executa as funções\n",
        "select = geraSetList()\n",
        "imprime_setlist(select)"
      ],
      "metadata": {
        "colab": {
          "base_uri": "https://localhost:8080/"
        },
        "id": "_m8unXIQql9y",
        "outputId": "051a312e-0dc4-4df2-d867-6b19e24dc8aa"
      },
      "execution_count": 6,
      "outputs": [
        {
          "output_type": "stream",
          "name": "stdout",
          "text": [
            "Quantas músicas? 3\n",
            "Digite o nome da música de ordem 1: Oi\n",
            "Digite o nome da música de ordem 2: Olá\n",
            "Digite o nome da música de ordem 3: Adeus\n",
            "\n",
            "\n",
            "A lista de músicas é\n",
            "Oi\n",
            "Olá\n",
            "Adeus\n"
          ]
        }
      ]
    },
    {
      "cell_type": "code",
      "source": [
        "# Programa que mantém um boletim de alunos e imprime as notas de cada disciplina.\n",
        "\n",
        "def imprime_boletim(boletim):\n",
        "    # Exibe as informações e notas do aluno\n",
        "    print(f\"Aluno: {boletim[0]}\")\n",
        "    print(f\"Matricula: {boletim[1]}\")\n",
        "    print(f\"Matemática: {boletim[2]}\")\n",
        "    print(f\"Português: {boletim[3]}\")\n",
        "    print(f\"Física: {boletim[4]}\")\n",
        "    print(f\"História: {boletim[5]}\\n\")\n",
        "\n",
        "def main():\n",
        "    # Cada aluno tem: nome, ID, notas de matemática, português, física e história\n",
        "    alunos = [\n",
        "        [\"Alan Turing\", 1234, 9.7, 1.4, 9.2, 8.7],\n",
        "        [\"Ada Lovelace\", 4321, 9.8, 1.2, 10, 9.2]\n",
        "    ]\n",
        "\n",
        "    # Imprime o boletim de cada aluno\n",
        "    for i in alunos:\n",
        "        imprime_boletim(i)\n",
        "\n",
        "main()"
      ],
      "metadata": {
        "colab": {
          "base_uri": "https://localhost:8080/"
        },
        "id": "WmyhM-jjsbYS",
        "outputId": "b2328eb3-0bcd-4803-e44f-d60649ee0793"
      },
      "execution_count": 7,
      "outputs": [
        {
          "output_type": "stream",
          "name": "stdout",
          "text": [
            "Aluno: Alan Turing\n",
            "Matricula: 1234\n",
            "Matemática: 9.7\n",
            "Português: 1.4\n",
            "Física: 9.2\n",
            "História: 8.7\n",
            "\n",
            "Aluno: Ada Lovelace\n",
            "Matricula: 4321\n",
            "Matemática: 9.8\n",
            "Português: 1.2\n",
            "Física: 10\n",
            "História: 9.2\n",
            "\n"
          ]
        }
      ]
    },
    {
      "cell_type": "code",
      "source": [
        "# Programa de agenda telefônica que permite cadastrar, buscar e listar contatos.\n",
        "\n",
        "def main():\n",
        "    telefones = []\n",
        "    op = 0\n",
        "\n",
        "    def mensagem_inicial():\n",
        "        # Exibe as opções do menu\n",
        "        print(\"\\nAgenda de telefone, digite a operação desejada:\")\n",
        "        print(\"  1 - Cadastrar novo telefone\")\n",
        "        print(\"  2 - Procurar telefone pelo nome\")\n",
        "        print(\"  3 - Listar todos os contatos\")\n",
        "        print(\"  4 - Sair\")\n",
        "\n",
        "    while op != 4:\n",
        "        mensagem_inicial()\n",
        "        op = int(input(\"Digite a operação desejada: \"))\n",
        "\n",
        "        if op == 1:\n",
        "            # Cadastro de novo contato\n",
        "            print(\"\\nCadastrando novo telefone... \\n\")\n",
        "            nome = input(\" - Digite o nome: \")\n",
        "            telefone = input(\" - Digite o telefone: \")\n",
        "            telefones.append([nome, telefone])\n",
        "        elif op == 2:\n",
        "            # Busca de contato pelo nome\n",
        "            print(\"Procurando telefone pelo nome... \\n\")\n",
        "            nome = input(\" - Digite o nome: \")\n",
        "            for i in telefones:\n",
        "                if i[0] == nome:\n",
        "                    print(f\"\\nO telefone de {nome} é {i[1]}\")\n",
        "        elif op == 3:\n",
        "            # Lista todos os contatos\n",
        "            print(\"Listar todos os contatos: \\n\")\n",
        "            for i in telefones:\n",
        "                print(f\"\\nNome: {i[0]} - Telefone: {i[1]}\")\n",
        "        elif op == 4:\n",
        "            # Sai do programa\n",
        "            print(\"Saindo...\")\n",
        "            break\n",
        "        else:\n",
        "            # Opção inválida\n",
        "            print(\"Opção inválida\")\n",
        "\n",
        "main()"
      ],
      "metadata": {
        "colab": {
          "base_uri": "https://localhost:8080/"
        },
        "id": "8104pLMQuUZm",
        "outputId": "dacfad83-a108-454d-f661-e7e53d8fd5c1"
      },
      "execution_count": 8,
      "outputs": [
        {
          "output_type": "stream",
          "name": "stdout",
          "text": [
            "\n",
            "Agenda de telefone, digite a operação desejada:\n",
            "  1 - Cadastrar novo telefone\n",
            "  2 - Procurar telefone pelo nome\n",
            "  3 - Listar todos os contatos\n",
            "  4 - Sair\n",
            "Digite a operação desejada: 4\n",
            "Saindo...\n"
          ]
        }
      ]
    }
  ]
}