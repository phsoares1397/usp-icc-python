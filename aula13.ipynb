{
  "nbformat": 4,
  "nbformat_minor": 0,
  "metadata": {
    "colab": {
      "provenance": [],
      "authorship_tag": "ABX9TyNRYnl5nZJfHQkhSuLOEdva",
      "include_colab_link": true
    },
    "kernelspec": {
      "name": "python3",
      "display_name": "Python 3"
    },
    "language_info": {
      "name": "python"
    }
  },
  "cells": [
    {
      "cell_type": "markdown",
      "metadata": {
        "id": "view-in-github",
        "colab_type": "text"
      },
      "source": [
        "<a href=\"https://colab.research.google.com/github/phsoares1397/usp-icc-python/blob/main/aula13.ipynb\" target=\"_parent\"><img src=\"https://colab.research.google.com/assets/colab-badge.svg\" alt=\"Open In Colab\"/></a>"
      ]
    },
    {
      "cell_type": "code",
      "execution_count": 1,
      "metadata": {
        "id": "2J2v5rGhmNT-"
      },
      "outputs": [],
      "source": [
        "# Função que conta quantas vezes um dígito d aparece no número n.\n",
        "\n",
        "def contaAlgarismo(n, d):\n",
        "    val = n\n",
        "    conta = 0\n",
        "\n",
        "    # Caso especial: n e d iguais a zero\n",
        "    if n == 0 and d == 0:\n",
        "        conta = 1\n",
        "\n",
        "    # Percorre os algarismos do número\n",
        "    while val > 0:\n",
        "        if val % 10 == d:\n",
        "            conta += 1\n",
        "        val //= 10\n",
        "\n",
        "    return conta"
      ]
    },
    {
      "cell_type": "code",
      "source": [
        "# Programa que verifica se dois números são iguais, permutações um do outro ou diferentes.\n",
        "\n",
        "def main():\n",
        "    # Entrada dos números\n",
        "    a = int(input(\"Digite o valor de a: \"))\n",
        "    b = int(input(\"Digite o valor de b: \"))\n",
        "    permutacao = True\n",
        "\n",
        "    # Verifica se cada dígito aparece o mesmo número de vezes nos dois números\n",
        "    i = 0\n",
        "    while i < 10:\n",
        "        if contaAlgarismo(a, i) != contaAlgarismo(b, i):\n",
        "            permutacao = False\n",
        "            break\n",
        "        permutacao = True\n",
        "        i += 1\n",
        "\n",
        "    print(\"\")\n",
        "    # Exibe o resultado\n",
        "    if a == b:\n",
        "        print(\"a e b são iguais\")\n",
        "        return\n",
        "    elif permutacao:\n",
        "        print(\"a e b são permutações\")\n",
        "    else:\n",
        "        print(\"a e b não são permutações\")\n",
        "\n",
        "main()"
      ],
      "metadata": {
        "colab": {
          "base_uri": "https://localhost:8080/"
        },
        "id": "zjQCQHGZvLsi",
        "outputId": "aa706260-7f8e-40ad-b286-951210823e4a"
      },
      "execution_count": 2,
      "outputs": [
        {
          "output_type": "stream",
          "name": "stdout",
          "text": [
            "Digite o valor de a: 10\n",
            "Digite o valor de b: 20\n",
            "\n",
            "a e b não são permutações\n"
          ]
        }
      ]
    },
    {
      "cell_type": "code",
      "source": [
        "# Função que verifica se dois números são permutações um do outro, comparando a quantidade de cada dígito.\n",
        "\n",
        "def permutacao(a, b):\n",
        "    # Verifica cada dígito de 0 a 9\n",
        "    i = 0\n",
        "    while i < 10:\n",
        "        if contaAlgarismo(a, i) != contaAlgarismo(b, i):\n",
        "            return False\n",
        "        i += 1\n",
        "    return True"
      ],
      "metadata": {
        "id": "a-XUHLFDwsz_"
      },
      "execution_count": 3,
      "outputs": []
    }
  ]
}