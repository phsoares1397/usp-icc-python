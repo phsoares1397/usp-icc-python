{
  "nbformat": 4,
  "nbformat_minor": 0,
  "metadata": {
    "colab": {
      "provenance": [],
      "authorship_tag": "ABX9TyPpAOu4E73nGXq92GVPjBJN",
      "include_colab_link": true
    },
    "kernelspec": {
      "name": "python3",
      "display_name": "Python 3"
    },
    "language_info": {
      "name": "python"
    }
  },
  "cells": [
    {
      "cell_type": "markdown",
      "metadata": {
        "id": "view-in-github",
        "colab_type": "text"
      },
      "source": [
        "<a href=\"https://colab.research.google.com/github/phsoares1397/usp-icc-python/blob/main/aula03.ipynb\" target=\"_parent\"><img src=\"https://colab.research.google.com/assets/colab-badge.svg\" alt=\"Open In Colab\"/></a>"
      ]
    },
    {
      "cell_type": "code",
      "execution_count": null,
      "metadata": {
        "colab": {
          "base_uri": "https://localhost:8080/"
        },
        "id": "rXhXEMZsWKVS",
        "outputId": "01e7249a-ed49-4eb8-f2a5-c0651ebc6e70"
      },
      "outputs": [
        {
          "output_type": "stream",
          "name": "stdout",
          "text": [
            "Digite o primeiro numero: 5\n",
            "Digite o segundo numero: 5\n",
            "Digite o segundo numero: 4\n",
            "\n",
            "\n",
            "Os números não estão em ordem crescente\n"
          ]
        }
      ],
      "source": [
        "# Programa que lê três números e verifica se estão em ordem crescente.\n",
        "\n",
        "def main():\n",
        "    # Entrada dos três números\n",
        "    a = int(input(\"Digite o primeiro numero: \"))\n",
        "    b = int(input(\"Digite o segundo numero: \"))\n",
        "    c = int(input(\"Digite o terceiro numero: \"))\n",
        "\n",
        "    # Verifica se estão em ordem crescente\n",
        "    if(a <= b and b <= c):\n",
        "        print(\"\\n\\nOs números estão em ordem crescente\")\n",
        "    else:\n",
        "        print(\"\\n\\nOs números não estão em ordem crescente\")\n",
        "\n",
        "main()"
      ]
    },
    {
      "cell_type": "code",
      "source": [
        "# Programa que lê três números em ordem crescente e verifica se formam um triângulo retângulo.\n",
        "\n",
        "def main():\n",
        "    # Solicita que o usuário digite os três números em ordem crescente\n",
        "    print(\"Digite 3 números em ordem crescente:\\n\\n\")\n",
        "    a = int(input(\"Digite o primeiro numero: \"))\n",
        "    b = int(input(\"Digite o segundo numero: \"))\n",
        "    c = int(input(\"Digite o terceiro numero: \"))\n",
        "\n",
        "    # Verifica se satisfaz o Teorema de Pitágoras\n",
        "    if c**2 == (a**2 + b**2):\n",
        "        print(\"\\n\\nÉ um triângulo retângulo\")\n",
        "    else:\n",
        "        print(\"\\n\\nNão é um triângulo retângulo\")\n",
        "\n",
        "main()"
      ],
      "metadata": {
        "colab": {
          "base_uri": "https://localhost:8080/"
        },
        "id": "a36ACoaEaazp",
        "outputId": "d678d269-1d45-4b45-bdf1-f7868b289dea"
      },
      "execution_count": null,
      "outputs": [
        {
          "output_type": "stream",
          "name": "stdout",
          "text": [
            "Digite 3 números em ordem crescente:\n",
            "\n",
            "\n",
            "Digite o primeiro numero: 3\n",
            "Digite o segundo numero: 4\n",
            "Digite o terceiro numero: 5\n",
            "\n",
            "\n",
            "É um triângulo retângulo\n"
          ]
        }
      ]
    },
    {
      "cell_type": "code",
      "source": [
        "# Programa que lê os coeficientes de uma equação de 2º grau e calcula suas raízes reais, se existirem.\n",
        "\n",
        "import math\n",
        "\n",
        "def main():\n",
        "    # Entrada dos coeficientes da equação\n",
        "    print(\"Digite os coeficientes da equação de 2º grau na forma: ax² + bx + c = 0:\\n\\n\")\n",
        "    a = float(input(\"Digite o valor de a: \"))\n",
        "    b = float(input(\"Digite o valor de b: \"))\n",
        "    c = float(input(\"Digite o valor de c: \"))\n",
        "\n",
        "    # Calcula o discriminante (delta)\n",
        "    delta = b**2 - 4*a*c\n",
        "\n",
        "    # Verifica o número de raízes reais\n",
        "    if delta < 0:\n",
        "        print(\"\\n\\nA equação não possui raízes reais\")\n",
        "    elif delta == 0:\n",
        "        raiz = -b / (2*a)\n",
        "        print(\"\\n\\nA equação possui apenas uma raiz real:\", raiz)\n",
        "    else:\n",
        "        raiz1 = (-b + math.sqrt(delta)) / (2*a)\n",
        "        raiz2 = (-b - math.sqrt(delta)) / (2*a)\n",
        "        print(\"\\n\\nAs raizes são: x1 = \" + str(raiz1) + \" e x2 = \" + str(raiz2))\n",
        "\n",
        "main()"
      ],
      "metadata": {
        "colab": {
          "base_uri": "https://localhost:8080/"
        },
        "id": "-H8HA2Wgcz9Q",
        "outputId": "bb0565e1-1e90-4f03-f604-afc6516b160c"
      },
      "execution_count": null,
      "outputs": [
        {
          "output_type": "stream",
          "name": "stdout",
          "text": [
            "Digite os coeficientes da equação de 2º grau na forma: ax² + bx + c = 0:\n",
            "\n",
            "\n",
            "Digite o valor de a: 1\n",
            "Digite o valor de b: 5\n",
            "Digite o valor de c: 6\n",
            "\n",
            "\n",
            "As raizes são: x1 = -2.0 e x2 = -3.0\n"
          ]
        }
      ]
    },
    {
      "cell_type": "code",
      "source": [
        "# Programa que solicita usuário e senha e verifica se o login é válido.\n",
        "\n",
        "def main():\n",
        "    # Solicita as credenciais do usuário\n",
        "    print(\"Olá! Digite suas credênciais para acessar:\\n\\n\")\n",
        "    uid = input(\"Usuário: \")\n",
        "    senha = input(\"Senha: \")\n",
        "\n",
        "    # Verifica se o usuário e senha estão corretos\n",
        "    if uid == \"ali babá\" and senha == \"abre-te, sésamo\":\n",
        "        print(\"\\n\\nBem vindo(a)!\")\n",
        "    else:\n",
        "        print(\"\\n\\nLogin ou senha incorreto\")\n",
        "\n",
        "main()"
      ],
      "metadata": {
        "colab": {
          "base_uri": "https://localhost:8080/"
        },
        "id": "zMXtudCvfJeF",
        "outputId": "4f502548-20c1-4066-920b-6f59b6b3b979"
      },
      "execution_count": null,
      "outputs": [
        {
          "output_type": "stream",
          "name": "stdout",
          "text": [
            "Olá! Digite suas credênciais para acessar:\n",
            "\n",
            "\n",
            "Usuário: ali babá\n",
            "Senha: abre-te, sésamo\n",
            "\n",
            "\n",
            "Bem vindo(a)!\n"
          ]
        }
      ]
    },
    {
      "cell_type": "code",
      "source": [
        "# Programa que solicita usuário e senha e exibe uma mensagem de boas-vindas personalizada se o login for válido.\n",
        "\n",
        "def login():\n",
        "    # Solicita as credenciais do usuário\n",
        "    print(\"Olá! Digite suas credênciais para acessar:\\n\\n\")\n",
        "    uid = input(\"Usuário: \")\n",
        "    senha = input(\"Senha: \")\n",
        "\n",
        "    # Verifica se o usuário e senha correspondem a algum usuário conhecido\n",
        "    if uid == \"turing\" and senha == \"tmachine\":\n",
        "        print(\"\\n\\nBem vindo(a)! Alan Turing\")\n",
        "    elif uid == \"llace\" and senha == \"anengine\":\n",
        "        print(\"\\n\\nBem vindo(a)! Ada Lovelace\")\n",
        "    elif uid == \"hopper\" and senha == \"business\":\n",
        "        print(\"\\n\\nBem vindo(a)! Grace Hopper\")\n",
        "    else:\n",
        "        print(\"\\n\\nUsuário ou senha incorretos.\")\n",
        "\n",
        "login()"
      ],
      "metadata": {
        "colab": {
          "base_uri": "https://localhost:8080/"
        },
        "id": "sYDRqaKFhUIp",
        "outputId": "68469f5f-467e-4462-a43e-866c766b9dda"
      },
      "execution_count": null,
      "outputs": [
        {
          "output_type": "stream",
          "name": "stdout",
          "text": [
            "Olá! Digite suas credênciais para acessar:\n",
            "\n",
            "\n",
            "Usuário: turing\n",
            "Senha: business\n",
            "\n",
            "\n",
            "Usuário ou senha incorretos.\n"
          ]
        }
      ]
    },
    {
      "cell_type": "code",
      "source": [
        "# Programa que lê notas de provas e EPs, calcula médias e determina situação final do aluno.\n",
        "\n",
        "def main():\n",
        "    # Entrada das notas das provas\n",
        "    print(\"Digite as notas das duas provas: \\n\\n\")\n",
        "    n1 = float(input(\"Nota 1: \"))\n",
        "    n2 = float(input(\"Nota 2: \"))\n",
        "\n",
        "    # Entrada das notas dos EPs\n",
        "    print(\"\\n\\nDigite as notas dos 3 EPs: \\n\\n\")\n",
        "    ep1 = float(input(\"EP 1: \"))\n",
        "    ep2 = float(input(\"EP 2: \"))\n",
        "    ep3 = float(input(\"EP 3: \"))\n",
        "\n",
        "    # Calculando a nota n1 somando com o EP1\n",
        "    n1 = n1 + ep1\n",
        "\n",
        "    # Média ponderada das provas\n",
        "    mediaProvas = (n1 + 2*n2) / 3\n",
        "\n",
        "    # Média ponderada dos EPs restantes\n",
        "    mediaEP = (ep2 + 2*ep3) / 3\n",
        "\n",
        "    # Inicializa a média final\n",
        "    mediaFinal = 0\n",
        "\n",
        "    # Verifica se alguma média é menor que 5\n",
        "    if mediaEP < 5 or mediaProvas < 5:\n",
        "        mediaFinal = min(mediaEP, mediaProvas)\n",
        "        print(\"\\n\\nSua média final é: \" + str(round(mediaFinal, 2)) + \": Você foi para a recuperação.\")\n",
        "    else:\n",
        "        # Calcula a média final ponderada\n",
        "        mediaFinal = (mediaEP + 2*mediaProvas) / 3\n",
        "        print(\"\\n\\nSua média final é: \" + str(round(mediaFinal, 2)))\n",
        "        if mediaFinal >= 5:\n",
        "            print(\"-> Parabéns! Você foi aprovado!\")\n",
        "        else:\n",
        "            print(\"-> Você foi para a final!\")\n",
        "\n",
        "main()"
      ],
      "metadata": {
        "colab": {
          "base_uri": "https://localhost:8080/"
        },
        "id": "mT1gZQ7NjA6A",
        "outputId": "b2b8bbe6-7fbd-43bd-9770-3b65925b1fb0"
      },
      "execution_count": null,
      "outputs": [
        {
          "output_type": "stream",
          "name": "stdout",
          "text": [
            "Digite as notas das duas provas: \n",
            "\n",
            "\n",
            "Nota 1: 4\n",
            "Nota 2: 4\n",
            "\n",
            "\n",
            "Digite as notas dos 3 EPs: \n",
            "\n",
            "\n",
            "EP 1: 1\n",
            "EP 2: 5\n",
            "EP 3: 3\n",
            "\n",
            "\n",
            "Sua média final é: 3.67: Você foi para a recuperação.\n"
          ]
        }
      ]
    },
    {
      "cell_type": "code",
      "source": [
        "# Programa que verifica se um ano informado é bissexto.\n",
        "\n",
        "def main():\n",
        "    # Entrada do ano\n",
        "    print(\"Calculadora de ano bissexto.. \\n\\n\")\n",
        "    ano = int(input(\"Digite o ano: \"))\n",
        "\n",
        "    # Verifica se o ano é bissexto\n",
        "    if ano % 4 == 0 and ano % 100 != 0 and ano % 400 != 0:\n",
        "        print(\"\\n\\nÉ um ano bissexto\")\n",
        "    else:\n",
        "        print(\"\\n\\nNão é um ano bissexto\")\n",
        "\n",
        "main()"
      ],
      "metadata": {
        "colab": {
          "base_uri": "https://localhost:8080/"
        },
        "id": "9RJ0qgXQmyD-",
        "outputId": "34594fda-5676-4073-b77b-f4c7957b1b6b"
      },
      "execution_count": null,
      "outputs": [
        {
          "output_type": "stream",
          "name": "stdout",
          "text": [
            "Calculadora de ano bissexto.. \n",
            "\n",
            "\n",
            "Digite o ano: 2104\n",
            "\n",
            "\n",
            "É um ano bissexto\n"
          ]
        }
      ]
    }
  ]
}