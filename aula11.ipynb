{
  "nbformat": 4,
  "nbformat_minor": 0,
  "metadata": {
    "colab": {
      "provenance": [],
      "authorship_tag": "ABX9TyN9O3n7W4O06gbPVgenhAIz",
      "include_colab_link": true
    },
    "kernelspec": {
      "name": "python3",
      "display_name": "Python 3"
    },
    "language_info": {
      "name": "python"
    }
  },
  "cells": [
    {
      "cell_type": "markdown",
      "metadata": {
        "id": "view-in-github",
        "colab_type": "text"
      },
      "source": [
        "<a href=\"https://colab.research.google.com/github/phsoares1397/usp-icc-python/blob/main/aula11.ipynb\" target=\"_parent\"><img src=\"https://colab.research.google.com/assets/colab-badge.svg\" alt=\"Open In Colab\"/></a>"
      ]
    },
    {
      "cell_type": "code",
      "execution_count": null,
      "metadata": {
        "colab": {
          "base_uri": "https://localhost:8080/"
        },
        "id": "lw4LqF0alO29",
        "outputId": "f779e2c5-4e64-4a44-b8ba-395e1cf33e71"
      },
      "outputs": [
        {
          "output_type": "stream",
          "name": "stdout",
          "text": [
            "True\n",
            "False\n",
            "False\n",
            "True\n",
            "False\n"
          ]
        }
      ],
      "source": [
        "# Programa que verifica se duas listas são iguais, comparando tamanho e elementos na mesma ordem.\n",
        "\n",
        "def listas_iguais(l1, l2):\n",
        "    # Verifica se as listas têm tamanhos diferentes\n",
        "    if len(l1) != len(l2):\n",
        "        return False\n",
        "\n",
        "    # Compara elemento a elemento\n",
        "    for i in range(len(l1)):\n",
        "        if l1[i] != l2[i]:\n",
        "            return False\n",
        "\n",
        "    # Se todos os elementos forem iguais\n",
        "    return True\n",
        "\n",
        "def main():\n",
        "    # Testes da função listas_iguais\n",
        "    print(listas_iguais([1,2,3], [1,2,3]))\n",
        "    print(listas_iguais([1,2,3], [3,2,1]))\n",
        "    print(listas_iguais([1,2,3], [1,2,4]))\n",
        "    print(listas_iguais([4,8,9,10,2], [4,8,9,10,2]))\n",
        "    print(listas_iguais([4,8,9,10,2], [4,8,9,10,3]))\n",
        "\n",
        "main()"
      ]
    },
    {
      "cell_type": "code",
      "source": [
        "# Programa que estima a probabilidade de pelo menos duas pessoas fazerem aniversário no mesmo dia usando o método de Monte Carlo.\n",
        "\n",
        "import random\n",
        "\n",
        "def aniversario_monte_carlo(qntPessoas, qntExperimentos):\n",
        "    qntAniversarios = 0\n",
        "\n",
        "    # Realiza os experimentos\n",
        "    for i in range(qntExperimentos):\n",
        "        diasAniversarios = []\n",
        "\n",
        "        # Gera aleatoriamente os dias de aniversário das pessoas\n",
        "        for x in range(qntPessoas):\n",
        "            diasAniversarios.append(random.randint(1, 365))\n",
        "\n",
        "        # Verifica se há aniversários iguais\n",
        "        for x in range(qntPessoas):\n",
        "            temp = diasAniversarios[x]\n",
        "            diasAniversarios[x] = 0\n",
        "\n",
        "            if temp in diasAniversarios:\n",
        "                qntAniversarios += 1\n",
        "                break\n",
        "\n",
        "            diasAniversarios[x] = temp\n",
        "\n",
        "    # Retorna a probabilidade estimada\n",
        "    return qntAniversarios / qntExperimentos\n",
        "\n",
        "def main():\n",
        "    pessoas = int(input(\"Números de pessoas: \"))\n",
        "    experimentos = int(input(\"Número de experimentos: \"))\n",
        "\n",
        "    # Exibe a probabilidade estimada\n",
        "    print(\"\\n\" + str(aniversario_monte_carlo(pessoas, experimentos)))\n",
        "\n",
        "main()"
      ],
      "metadata": {
        "colab": {
          "base_uri": "https://localhost:8080/"
        },
        "id": "X6E45UHsq-Kh",
        "outputId": "3a41f4de-4d93-4e4d-a470-f1b86131d5f0"
      },
      "execution_count": null,
      "outputs": [
        {
          "output_type": "stream",
          "name": "stdout",
          "text": [
            "Números de pessoas: 70\n",
            "Número de experimentos: 1000000\n",
            "\n",
            "0.999099\n"
          ]
        }
      ]
    },
    {
      "cell_type": "code",
      "source": [
        "# Programa que implementa funções básicas de operações matemáticas: soma, subtração, multiplicação e divisão.\n",
        "\n",
        "def soma(x, y):\n",
        "    return f'A soma é {x + y}'\n",
        "\n",
        "def subtrai(x, y):\n",
        "    return f'A subtração é {x - y}'\n",
        "\n",
        "def multiplica(x, y):\n",
        "    return f'O produto é {x * y}'\n",
        "\n",
        "def divide(x, y):\n",
        "    # Verifica divisão por zero\n",
        "    if y == 0:\n",
        "        return 'Não é possível dividir por zero'\n",
        "    return f'O quociente é {x / y}'\n",
        "\n",
        "# Teste da função soma\n",
        "print(soma(2, 4))"
      ],
      "metadata": {
        "colab": {
          "base_uri": "https://localhost:8080/"
        },
        "id": "e5Vptj6IvAG-",
        "outputId": "e670e040-d16a-4272-c938-fbf0a0445c0a"
      },
      "execution_count": null,
      "outputs": [
        {
          "output_type": "stream",
          "name": "stdout",
          "text": [
            "A soma é 6\n"
          ]
        }
      ]
    },
    {
      "cell_type": "code",
      "source": [
        "# Programa que solicita ao usuário uma operação matemática e dois números, e mostra o resultado usando funções.\n",
        "\n",
        "def main():\n",
        "    # Entrada da operação e dos números\n",
        "    op = input('Qual operação? (soma, subtração, multiplicação, divisão) ')\n",
        "    num1 = int(input('Digite o primeiro número: '))\n",
        "    num2 = int(input('Digite o segundo número: '))\n",
        "\n",
        "    resultado = 0\n",
        "\n",
        "    # Seleciona a função correspondente à operação\n",
        "    if op == \"soma\":\n",
        "        resultado = soma(num1, num2)\n",
        "    elif op == \"subtração\":\n",
        "        resultado = subtrai(num1, num2)\n",
        "    elif op == \"multiplicação\":\n",
        "        resultado = multiplica(num1, num2)\n",
        "    elif op == \"divisão\":\n",
        "        resultado = divide(num1, num2)\n",
        "\n",
        "    # Exibe o resultado\n",
        "    print(resultado)\n",
        "\n",
        "main()"
      ],
      "metadata": {
        "colab": {
          "base_uri": "https://localhost:8080/"
        },
        "id": "0WgfDdrgwyf1",
        "outputId": "4ec6d4ed-e6c3-40d9-aedf-1eeb0f65a615"
      },
      "execution_count": null,
      "outputs": [
        {
          "output_type": "stream",
          "name": "stdout",
          "text": [
            "Qual operação? (soma, subtração, multiplicação, divisão)soma\n",
            "Digite o primeiro número: 2\n",
            "Digite o segundo número: 3\n",
            "A soma é 5\n"
          ]
        }
      ]
    },
    {
      "cell_type": "code",
      "source": [
        "alunosNotas = [\n",
        "    [\"Zé\", 7],\n",
        "    [\"Fé\", 8.5],\n",
        "    [\"Má\", 8.3],\n",
        "    [\"Lú\", 9.1]\n",
        "               ]\n",
        "\n",
        "def main():\n",
        "  for aluno in alunosNotas:\n",
        "    print(f'A nota de {aluno[0]} foi {aluno[1]}')\n",
        "\n",
        "main()"
      ],
      "metadata": {
        "colab": {
          "base_uri": "https://localhost:8080/"
        },
        "id": "Lnjkfl6E1FCJ",
        "outputId": "7339fc97-47b8-4cb3-b39a-92ba6f8da9ee"
      },
      "execution_count": null,
      "outputs": [
        {
          "output_type": "stream",
          "name": "stdout",
          "text": [
            "A nota de Zé foi 7\n",
            "A nota de Fé foi 8.5\n",
            "A nota de Má foi 8.3\n",
            "A nota de Lú foi 9.1\n"
          ]
        }
      ]
    },
    {
      "cell_type": "code",
      "source": [
        "# Programa que mantém uma lista de produtos e exibe o preço de cada um.\n",
        "\n",
        "def main():\n",
        "    # Cada produto tem: nome, código, preço, estoque, fornecedor\n",
        "    prods = [\n",
        "        [\"Desentortador de banana\", 1234, 120, 30, \"Falida SA\"],\n",
        "        [\"Cola para dedos\", 4321, 17, 83, \"Descolada LTDA\"]\n",
        "    ]\n",
        "\n",
        "    print(\"Lista de preços: \\n\")\n",
        "\n",
        "    # Percorre a lista de produtos e exibe preço\n",
        "    for prod in prods:\n",
        "        print(f'O produto {prod[1]}. {prod[0]} custa R${prod[2]},00')\n",
        "\n",
        "main()"
      ],
      "metadata": {
        "colab": {
          "base_uri": "https://localhost:8080/"
        },
        "id": "EX7Dw-bT2dda",
        "outputId": "283373ea-2b58-450e-8690-dde5ee1d3ba8"
      },
      "execution_count": null,
      "outputs": [
        {
          "output_type": "stream",
          "name": "stdout",
          "text": [
            "Lista de preços: \n",
            "\n",
            "O produto 1234. Desentortador de banana custa R$120,00\n",
            "O produto 4321. Cola para dedos custa R$17,00\n"
          ]
        }
      ]
    },
    {
      "cell_type": "code",
      "source": [
        "# Programa que mantém uma lista de produtos e exibe o estoque e fornecedor de cada um.\n",
        "\n",
        "def main():\n",
        "    # Cada produto tem: nome, código, preço, estoque, fornecedor\n",
        "    prods = [\n",
        "        [\"Desentortador de banana\", 1234, 120, 30, \"Falida SA\"],\n",
        "        [\"Cola para dedos\", 4321, 17, 83, \"Descolada LTDA\"]\n",
        "    ]\n",
        "\n",
        "    print(\"Estoque atual: \\n\")\n",
        "\n",
        "    # Percorre a lista de produtos e exibe estoque e fornecedor\n",
        "    for prod in prods:\n",
        "        print(f'{prod[1]}. {prod[0]} | Estoque: {prod[3]} | Fornecedor: {prod[4]}')\n",
        "\n",
        "main()"
      ],
      "metadata": {
        "colab": {
          "base_uri": "https://localhost:8080/"
        },
        "id": "xtUlgoxs4JK3",
        "outputId": "1ce85188-1f7f-43ca-f673-850cea7c0d6e"
      },
      "execution_count": 1,
      "outputs": [
        {
          "output_type": "stream",
          "name": "stdout",
          "text": [
            "Estoque atual: \n",
            "\n",
            "1234. Desentortador de banana | Estoque: 30 | Fornecedor: Falida SA\n",
            "4321. Cola para dedos | Estoque: 83 | Fornecedor: Descolada LTDA\n"
          ]
        }
      ]
    },
    {
      "cell_type": "code",
      "source": [
        "# Programa que verifica o estoque dos produtos e exibe aqueles que precisam ser repostos.\n",
        "\n",
        "def main():\n",
        "    # Cada produto tem: nome, código, preço, estoque, fornecedor\n",
        "    prods = [\n",
        "        [\"Desentortador de banana\", 1234, 120, 30, \"Falida SA\"],\n",
        "        [\"Cola para dedos\", 4321, 17, 83, \"Descolada LTDA\"]\n",
        "    ]\n",
        "\n",
        "    print(\"Estoque a repor: \\n\")\n",
        "\n",
        "    # Percorre a lista e exibe produtos com estoque menor que 50\n",
        "    for prod in prods:\n",
        "        if prod[3] < 50:\n",
        "            print(f'{prod[1]}. {prod[0]} | Estoque: {prod[3]} | Fornecedor: {prod[4]}')\n",
        "\n",
        "main()"
      ],
      "metadata": {
        "colab": {
          "base_uri": "https://localhost:8080/"
        },
        "id": "wij5E-G347cP",
        "outputId": "c15cc45d-5dd2-4f24-da20-aac6f2adc7c7"
      },
      "execution_count": 2,
      "outputs": [
        {
          "output_type": "stream",
          "name": "stdout",
          "text": [
            "Estoque a repor: \n",
            "\n",
            "1234. Desentortador de banana | Estoque: 30 | Fornecedor: Falida SA\n"
          ]
        }
      ]
    }
  ]
}