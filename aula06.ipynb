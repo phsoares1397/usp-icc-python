{
  "nbformat": 4,
  "nbformat_minor": 0,
  "metadata": {
    "colab": {
      "provenance": [],
      "authorship_tag": "ABX9TyPZRtzGmBByhVos9jkuTrnM",
      "include_colab_link": true
    },
    "kernelspec": {
      "name": "python3",
      "display_name": "Python 3"
    },
    "language_info": {
      "name": "python"
    }
  },
  "cells": [
    {
      "cell_type": "markdown",
      "metadata": {
        "id": "view-in-github",
        "colab_type": "text"
      },
      "source": [
        "<a href=\"https://colab.research.google.com/github/phsoares1397/usp-icc-python/blob/main/aula06.ipynb\" target=\"_parent\"><img src=\"https://colab.research.google.com/assets/colab-badge.svg\" alt=\"Open In Colab\"/></a>"
      ]
    },
    {
      "cell_type": "code",
      "execution_count": null,
      "metadata": {
        "colab": {
          "base_uri": "https://localhost:8080/"
        },
        "id": "QGIZwKg8OAtx",
        "outputId": "5a47cfb3-89d5-49a2-bc89-0f47fd9188e0"
      },
      "outputs": [
        {
          "output_type": "stream",
          "name": "stdout",
          "text": [
            "Olá! Digite suas credênciais para acessar:\n",
            "\n",
            "\n",
            "Usuário: ali babá\n",
            "Senha: abre-te, sésamo\n",
            "\n",
            "\n",
            "Boa noite! Bem vindo(a), ali babá\n"
          ]
        }
      ],
      "source": [
        "# Programa que solicita usuário e senha e dá uma saudação baseada na hora do dia se o login for válido.\n",
        "\n",
        "import time\n",
        "\n",
        "# Obtém a hora atual\n",
        "hora = int(time.strftime('%H'))\n",
        "\n",
        "def main():\n",
        "    # Solicita as credenciais do usuário\n",
        "    print(\"Olá! Digite suas credênciais para acessar:\\n\\n\")\n",
        "    uid = input(\"Usuário: \")\n",
        "    senha = input(\"Senha: \")\n",
        "\n",
        "    # Verifica se o usuário e senha estão corretos\n",
        "    if uid == \"ali babá\" and senha == \"abre-te, sésamo\":\n",
        "        mensagem = \"\\n\\n\"\n",
        "\n",
        "        # Determina a saudação de acordo com a hora\n",
        "        if hora >= 6 and hora < 13:\n",
        "            mensagem += \"Bom dia!\"\n",
        "        elif hora >= 13 and hora < 19:\n",
        "            mensagem += \"Boa tarde!\"\n",
        "        else:\n",
        "            mensagem += \"Boa noite!\"\n",
        "\n",
        "        print(mensagem + \" Bem vindo(a), \" + uid)\n",
        "    else:\n",
        "        print(\"\\n\\nLogin ou senha incorreto\")\n",
        "\n",
        "main()"
      ]
    },
    {
      "cell_type": "code",
      "source": [
        "# Programa que pergunta ao usuário seu animal preferido e imprime o som correspondente.\n",
        "\n",
        "def main():\n",
        "    # Apresenta as opções ao usuário\n",
        "    print(\"Vamos fazer uma brincadeira! Me diga qual o seu animal preferido:\\n\")\n",
        "    print(\"a) gato \\nb) cachorro \\nc) passarinho\")\n",
        "\n",
        "    # Entrada da opção do usuário\n",
        "    op = input(\"\\nDigite a letra correspondente: \")\n",
        "\n",
        "    # Exibe o som do animal escolhido\n",
        "    if op == \"a\":\n",
        "        print(\"\\nMiaauuu!\")\n",
        "    elif op == \"b\":\n",
        "        print(\"\\nAu au au!\")\n",
        "    elif op == \"c\":\n",
        "        print(\"\\n*som de passarinho*\")\n",
        "    else:\n",
        "        # Se a opção for inválida, reinicia o programa\n",
        "        print(\"\\nOpção inválida! Tente novamente!!\\n\")\n",
        "        main()\n",
        "\n",
        "main()"
      ],
      "metadata": {
        "colab": {
          "base_uri": "https://localhost:8080/"
        },
        "id": "TxWiUzxwXA5H",
        "outputId": "625e9baa-9527-45be-9c52-0358177e09c7"
      },
      "execution_count": null,
      "outputs": [
        {
          "output_type": "stream",
          "name": "stdout",
          "text": [
            "Vamos fazer uma brincadeira! Me diga qual o seu animal preferido:\n",
            "\n",
            "a) gato \n",
            "b) cachorro \n",
            "c) passarinho\n",
            "\n",
            "Digite a letra correspondente: h\n",
            "\n",
            "Opção inválida! Tente novamente!!\n",
            "\n",
            "Vamos fazer uma brincadeira! Me diga qual o seu animal preferido:\n",
            "\n",
            "a) gato \n",
            "b) cachorro \n",
            "c) passarinho\n",
            "\n",
            "Digite a letra correspondente: b\n",
            "\n",
            "Au au au!\n"
          ]
        }
      ]
    }
  ]
}