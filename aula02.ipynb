{
  "nbformat": 4,
  "nbformat_minor": 0,
  "metadata": {
    "colab": {
      "provenance": [],
      "authorship_tag": "ABX9TyMBhXiPzkUB3hlutLkcwILc",
      "include_colab_link": true
    },
    "kernelspec": {
      "name": "python3",
      "display_name": "Python 3"
    },
    "language_info": {
      "name": "python"
    }
  },
  "cells": [
    {
      "cell_type": "markdown",
      "metadata": {
        "id": "view-in-github",
        "colab_type": "text"
      },
      "source": [
        "<a href=\"https://colab.research.google.com/github/phsoares1397/usp-icc-python/blob/main/aula02.ipynb\" target=\"_parent\"><img src=\"https://colab.research.google.com/assets/colab-badge.svg\" alt=\"Open In Colab\"/></a>"
      ]
    },
    {
      "cell_type": "code",
      "execution_count": null,
      "metadata": {
        "colab": {
          "base_uri": "https://localhost:8080/"
        },
        "id": "O1pEIahjLcFP",
        "outputId": "d145b940-3405-47f0-86c6-1aba2c9bb432"
      },
      "outputs": [
        {
          "output_type": "stream",
          "name": "stdout",
          "text": [
            "Digite o lado (l) do quadrado, em cm: 6\n",
            "\n",
            "Área (l²): 36cm²\n",
            "Perimetro (4l): 24cm\n"
          ]
        }
      ],
      "source": [
        "# Programa que lê o lado de um quadrado e calcula sua área e perímetro.\n",
        "\n",
        "def main():\n",
        "    lado = int(input(\"Digite o lado (l) do quadrado, em cm: \"))\n",
        "\n",
        "    # Área do quadrado (lado²)\n",
        "    print(\"\\nÁrea (l²): \" + str(lado**2) + \"cm²\")\n",
        "\n",
        "    # Perímetro do quadrado (4 * lado)\n",
        "    print(\"Perímetro (4l): \" + str(lado*4) + \"cm\")\n",
        "\n",
        "main()"
      ]
    },
    {
      "cell_type": "code",
      "source": [
        "# Programa que lê um número natural e exibe a dezena (casa das dezenas).\n",
        "\n",
        "def dezenas():\n",
        "    n = int(input(\"Digite um numero natural: \"))\n",
        "\n",
        "    # Calcula a dezena do número\n",
        "    dezena = n // 10\n",
        "    dezena = dezena - (dezena // 10) * 10\n",
        "\n",
        "    print(\"\\nDezena: \" + str(dezena))\n",
        "\n",
        "dezenas()"
      ],
      "metadata": {
        "colab": {
          "base_uri": "https://localhost:8080/"
        },
        "id": "lFa05HYcNSCi",
        "outputId": "a567e116-e2e3-4d7b-b4d7-b9da324ecc10"
      },
      "execution_count": null,
      "outputs": [
        {
          "output_type": "stream",
          "name": "stdout",
          "text": [
            "Digite um numero natural: 857740\n",
            "\n",
            "\n",
            "Dezena: 4\n"
          ]
        }
      ]
    },
    {
      "cell_type": "code",
      "source": [
        "# Dado tempo em minutos, compute os valores de dias, horas e minutos tais que\n",
        "# tempo = 24*60*dias + 60*horas + minutos, minutos < 60, horas < 24\n",
        "def tempo():\n",
        "    tempo = int(input(\"Tempo: \"))\n",
        "\n",
        "    dias = (tempo // (24*60))\n",
        "\n",
        "    horas = (tempo % (24*60)) // 60\n",
        "\n",
        "    minutos = ((tempo % (24*60*60)) % 60)\n",
        "\n",
        "    # Nao modifique a linha abaixo\n",
        "    print( \"\\n\", dias, \"dia(s)\", horas, \"hora(s) e\", minutos, \"minuto(s)\")\n",
        "tempo()"
      ],
      "metadata": {
        "colab": {
          "base_uri": "https://localhost:8080/"
        },
        "id": "W6UwiI1iRfJf",
        "outputId": "e00cde9c-8d92-4af6-df57-3da9cbe86391"
      },
      "execution_count": null,
      "outputs": [
        {
          "output_type": "stream",
          "name": "stdout",
          "text": [
            "Tempo: 547859\n",
            "\n",
            " 380 dia(s) 10 hora(s) e 59 minuto(s)\n"
          ]
        }
      ]
    },
    {
      "cell_type": "code",
      "source": [
        "# Calcula a sensação térmica à sombra considerando vento, temperatura e umidade.\n",
        "\n",
        "import math\n",
        "\n",
        "def sensacao():\n",
        "    # Entrada de dados\n",
        "    v = float(input(\"Velocidade do vento (km/h): \"))\n",
        "    t = float(input(\"Temperatura (ºC): \"))\n",
        "    u = float(input(\"Umidade relativa do ar (%): \")) / 100  # converte para decimal\n",
        "\n",
        "    # Fórmula da sensação térmica\n",
        "    calculo = t + (2.015 * u * math.e**((17.27 * t) / (237.7 + t))) - 0.194 * v - 4\n",
        "\n",
        "    # Exibe o resultado arredondado com 2 casas decimais\n",
        "    print(\"\\nSensação térmica à sombra é \" + str(round(calculo, 2)) + \"ºC\")\n",
        "\n",
        "sensacao()"
      ],
      "metadata": {
        "colab": {
          "base_uri": "https://localhost:8080/"
        },
        "id": "1bFErUt_UmmV",
        "outputId": "c623b0ca-18ea-4aa1-afa8-770f6669f6f4"
      },
      "execution_count": null,
      "outputs": [
        {
          "name": "stdout",
          "output_type": "stream",
          "text": [
            "Velocidade do vento (km/h): 1400\n"
          ]
        }
      ]
    },
    {
      "cell_type": "code",
      "source": [
        "# Programa que lê um número natural e mostra quantas dezenas de 12 (dúzias) ele contém e as unidades restantes.\n",
        "\n",
        "def duzias():\n",
        "    n = int(input(\"Digite um numero natural: \"))\n",
        "\n",
        "    # Calcula o número de dúzias completas\n",
        "    duzia = n // 12\n",
        "\n",
        "    # Calcula as dúzias restantes após agrupar em conjuntos de 12\n",
        "    duzia = duzia - (duzia // 12) * 12\n",
        "\n",
        "    # Calcula as unidades restantes\n",
        "    unidade = n - duzia * 12\n",
        "\n",
        "    # Exibe o resultado\n",
        "    print(\"\\n\" + str(n) + \" corresponde à \" + str(duzia) + \" duzia(s) e \" + str(unidade) + \" unidade(s)\")\n",
        "\n",
        "duzias()"
      ],
      "metadata": {
        "colab": {
          "base_uri": "https://localhost:8080/"
        },
        "id": "XtCvN22YXuia",
        "outputId": "8643dc28-fa3b-4125-94f7-c630bb4b3e58"
      },
      "execution_count": null,
      "outputs": [
        {
          "output_type": "stream",
          "name": "stdout",
          "text": [
            "Digite um numero natural: 27\n",
            "\n",
            "27 corresponde à 2 duzia(s) e 3 unidade(s)\n"
          ]
        }
      ]
    },
    {
      "cell_type": "code",
      "source": [
        "# Programa que lê um número natural e calcula quantas grosas (144), dúzias (12) e unidades ele contém.\n",
        "\n",
        "def grosas():\n",
        "    n = int(input(\"Digite um numero natural: \"))\n",
        "\n",
        "    # Calcula o número de grosas (144 unidades)\n",
        "    grosas = n // 144\n",
        "\n",
        "    # Calcula o número de dúzias restantes\n",
        "    duzias = (n - grosas * 144) // 12\n",
        "\n",
        "    # Calcula as unidades restantes\n",
        "    unidade = n - grosas * 144 - duzias * 12\n",
        "\n",
        "    # Exibe o resultado\n",
        "    print(\"\\n\" + str(n) + \" corresponde à \" + str(grosas) + \" grosa(s), \" + str(duzias) + \" duzia(s) e \" + str(unidade) + \" unidade(s)\")\n",
        "\n",
        "grosas()"
      ],
      "metadata": {
        "colab": {
          "base_uri": "https://localhost:8080/"
        },
        "id": "LrzlgzZmYiZ5",
        "outputId": "3afbce75-2b4a-42f3-da2c-42199d462362"
      },
      "execution_count": null,
      "outputs": [
        {
          "output_type": "stream",
          "name": "stdout",
          "text": [
            "Digite um numero natural: 159\n",
            "\n",
            "159 corresponde à 1 grosa(s), 1 duzia(s) e 3 unidade(s)\n"
          ]
        }
      ]
    }
  ]
}