{
  "nbformat": 4,
  "nbformat_minor": 0,
  "metadata": {
    "colab": {
      "provenance": [],
      "authorship_tag": "ABX9TyNso4NwJhDIfiip20p5VMgS",
      "include_colab_link": true
    },
    "kernelspec": {
      "name": "python3",
      "display_name": "Python 3"
    },
    "language_info": {
      "name": "python"
    }
  },
  "cells": [
    {
      "cell_type": "markdown",
      "metadata": {
        "id": "view-in-github",
        "colab_type": "text"
      },
      "source": [
        "<a href=\"https://colab.research.google.com/github/phsoares1397/usp-icc-python/blob/main/aula14.ipynb\" target=\"_parent\"><img src=\"https://colab.research.google.com/assets/colab-badge.svg\" alt=\"Open In Colab\"/></a>"
      ]
    },
    {
      "cell_type": "code",
      "execution_count": null,
      "metadata": {
        "colab": {
          "base_uri": "https://localhost:8080/"
        },
        "id": "nij0GjvHemeH",
        "outputId": "faaf5e97-720b-492c-cc7b-c8aecd296273"
      },
      "outputs": [
        {
          "output_type": "stream",
          "name": "stdout",
          "text": [
            "1. Parasita\n",
            "\n",
            "2. A invenção de Hugo Cabret\n"
          ]
        }
      ],
      "source": [
        "# Programa que sugere aleatoriamente filmes a partir de uma lista obtida de um arquivo CSV.\n",
        "\n",
        "import pandas as pd\n",
        "import random\n",
        "\n",
        "def main():\n",
        "    # Carrega a lista de filmes do CSV online\n",
        "    url = 'https://github.com/rmcesarjr/iccd/raw/refs/heads/main/data/filmes.csv'\n",
        "    tmp = pd.read_csv(url, sep=';')\n",
        "    filmes = tmp['nome'].tolist()\n",
        "\n",
        "    # Sugestão de filme usando random.choice\n",
        "    indicacao = random.choice(filmes)\n",
        "    print(\"1. \" + indicacao)\n",
        "\n",
        "    # Outra forma: escolhe um índice aleatório\n",
        "    indicacao = random.randint(0, (len(filmes)-1))\n",
        "    print(\"\\n\" + \"2. \" + filmes[indicacao])\n",
        "\n",
        "main()"
      ]
    },
    {
      "cell_type": "code",
      "source": [
        "# Função que verifica se três números formam um triângulo retângulo usando o teorema de Pitágoras.\n",
        "\n",
        "def pitagorico(a, b, c):\n",
        "    # Retorna True se c² = a² + b², caso contrário False\n",
        "    return c**2 == (a**2 + b**2)\n",
        "\n",
        "# Teste da função\n",
        "pitagorico(3, 4, 5)"
      ],
      "metadata": {
        "colab": {
          "base_uri": "https://localhost:8080/"
        },
        "id": "h026R9nJlLu5",
        "outputId": "3fee3f7b-6c2f-42a5-e3b2-cacb2a5a73e3"
      },
      "execution_count": null,
      "outputs": [
        {
          "output_type": "execute_result",
          "data": {
            "text/plain": [
              "True"
            ]
          },
          "metadata": {},
          "execution_count": 1
        }
      ]
    },
    {
      "cell_type": "code",
      "source": [
        "# Programa que busca três números inteiros positivos a, b, c tais que a + b + c = n e formem um triângulo retângulo.\n",
        "\n",
        "def main():\n",
        "    n = int(input(\"Digite um inteiro positivo: \"))\n",
        "    a = 1; b = 2; c = 3\n",
        "    achei = False\n",
        "\n",
        "    # Percorre todas as combinações possíveis até encontrar uma tripla pitagórica\n",
        "    while a < n and not achei:\n",
        "        while b < n and not achei:\n",
        "            b += 1\n",
        "            c = 1\n",
        "            while c < n and not achei:\n",
        "                c += 1\n",
        "                if (a + b + c) == n:\n",
        "                    achei = pitagorico(a, b, c)\n",
        "\n",
        "        if not achei:\n",
        "            a += 1\n",
        "            b = 1\n",
        "\n",
        "    print()\n",
        "    # Exibe resultado\n",
        "    if achei:\n",
        "        print(f\"{a}, {b}, {c}\")\n",
        "    else:\n",
        "        print(\"Número não pitagórico\")\n",
        "\n",
        "main()"
      ],
      "metadata": {
        "colab": {
          "base_uri": "https://localhost:8080/"
        },
        "id": "hXeIo-rDnNaf",
        "outputId": "486ebe76-1d5f-4fc6-bc4a-54c6f219ca3a"
      },
      "execution_count": null,
      "outputs": [
        {
          "output_type": "stream",
          "name": "stdout",
          "text": [
            "Digite um inteiro positivo: 56\n",
            "\n",
            "7, 24, 25\n"
          ]
        }
      ]
    }
  ]
}