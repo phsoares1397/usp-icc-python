{
  "nbformat": 4,
  "nbformat_minor": 0,
  "metadata": {
    "colab": {
      "provenance": [],
      "authorship_tag": "ABX9TyO81yc0HcHjIo0ZtlVjbMdp",
      "include_colab_link": true
    },
    "kernelspec": {
      "name": "python3",
      "display_name": "Python 3"
    },
    "language_info": {
      "name": "python"
    }
  },
  "cells": [
    {
      "cell_type": "markdown",
      "metadata": {
        "id": "view-in-github",
        "colab_type": "text"
      },
      "source": [
        "<a href=\"https://colab.research.google.com/github/phsoares1397/usp-icc-python/blob/main/aula05.ipynb\" target=\"_parent\"><img src=\"https://colab.research.google.com/assets/colab-badge.svg\" alt=\"Open In Colab\"/></a>"
      ]
    },
    {
      "cell_type": "code",
      "execution_count": null,
      "metadata": {
        "colab": {
          "base_uri": "https://localhost:8080/"
        },
        "id": "rPkoaJYzW3kT",
        "outputId": "98efcd9e-d4c6-4b14-ce83-bb1b17cbe37d"
      },
      "outputs": [
        {
          "output_type": "stream",
          "name": "stdout",
          "text": [
            "Adivinhe um número de 1 a 10: 10\n",
            "Errou! Tenta um número menor ↓ : 1\n",
            "Errou! Tenta um número maior ↑ : 9\n",
            "Errou! Tenta um número menor ↓ : 2\n",
            "Errou! Tenta um número maior ↑ : 8\n",
            "Errou! Tenta um número menor ↓ : 3\n",
            "Errou! Tenta um número maior ↑ : 7\n",
            "Errou! Tenta um número menor ↓ : 4\n",
            "Errou! Tenta um número maior ↑ : 6\n",
            "Errou! Tenta um número menor ↓ : 5\n",
            "\n",
            "\n",
            "Acertou. Número secreto: 5\n"
          ]
        }
      ],
      "source": [
        "# Programa de adivinhação que gera um número aleatório de 1 a 10 e pede para o usuário tentar acertar.\n",
        "\n",
        "import random\n",
        "\n",
        "def main():\n",
        "    # Gera o número secreto aleatório\n",
        "    num = random.randint(1, 10)\n",
        "\n",
        "    # Solicita a primeira tentativa do usuário\n",
        "    guess = int(input(\"Adivinhe um número de 1 a 10: \"))\n",
        "\n",
        "    # Enquanto o palpite estiver errado, dá dicas para o usuário\n",
        "    while guess != num:\n",
        "        if guess < num:\n",
        "            guess = int(input(\"Errou! Tenta um número maior ↑ : \"))\n",
        "        else:\n",
        "            guess = int(input(\"Errou! Tenta um número menor ↓ : \"))\n",
        "\n",
        "    # Quando o usuário acerta\n",
        "    print(f\"\\n\\nAcertou. Número secreto: {num}\")\n",
        "\n",
        "main()"
      ]
    },
    {
      "cell_type": "code",
      "source": [
        "# Programa em que o computador tenta adivinhar o número escolhido pelo usuário, usando dicas de maior ou menor.\n",
        "\n",
        "import random\n",
        "\n",
        "def main():\n",
        "    # Introdução\n",
        "    print(\"Escolha um número de 1 até 10, vou tentar advinhar!\")\n",
        "\n",
        "    # Primeiro chute do computador\n",
        "    guess = random.randint(1, 10)\n",
        "    hint = input(f\"Meu chute é {guess}. O que você tem a me dizer? \")\n",
        "\n",
        "    # Inicializa os limites para o próximo chute\n",
        "    maior = 10\n",
        "    menor = 1\n",
        "\n",
        "    # Enquanto o computador não acertar\n",
        "    while hint != \"=\":\n",
        "        if hint == \">\":\n",
        "            menor = guess + 1\n",
        "            guess = random.randint(menor + 1, maior)\n",
        "        else:\n",
        "            maior = guess - 1\n",
        "            guess = random.randint(menor, maior - 1)\n",
        "\n",
        "        # Novo chute\n",
        "        hint = input(f\"Meu chute é {guess}. O que você tem a me dizer? \")\n",
        "\n",
        "    # Quando o computador acerta\n",
        "    print(f\"\\nHaha! Acertei. O número é {guess}\")\n",
        "\n",
        "main()"
      ],
      "metadata": {
        "colab": {
          "base_uri": "https://localhost:8080/"
        },
        "id": "pyW4tbanfhrs",
        "outputId": "851fddbf-ef13-4263-e118-9d893ec30874"
      },
      "execution_count": null,
      "outputs": [
        {
          "output_type": "stream",
          "name": "stdout",
          "text": [
            "Escolha um número de 1 até 10, vou tentar advinhar!\n",
            "Meu chute é 10. O que você tem a me dizer? <\n",
            "Meu chute é 1. O que você tem a me dizer? >\n",
            "Meu chute é 4. O que você tem a me dizer? >\n",
            "Meu chute é 7. O que você tem a me dizer? <\n",
            "Meu chute é 5. O que você tem a me dizer? =\n",
            "\n",
            "Haha! Acertei. O número é 5\n"
          ]
        }
      ]
    },
    {
      "cell_type": "code",
      "source": [
        "# Programa que calcula uma aproximação de pi usando a série de Leibniz.\n",
        "\n",
        "def main():\n",
        "    # Entrada do número de iterações\n",
        "    start = int(input(\"Digite o valor de k: \"))\n",
        "\n",
        "    i = 0\n",
        "    pi = 0.0\n",
        "\n",
        "    # Calcula a soma da série de Leibniz\n",
        "    while i <= (2 * start + 1):\n",
        "        if i % 2 == 0:\n",
        "            pi += 4 / (2 * i + 1)\n",
        "        else:\n",
        "            pi -= 4 / (2 * i + 1)\n",
        "        i += 1\n",
        "\n",
        "    # Exibe o resultado aproximado de pi\n",
        "    print(f\"\\nO valor de pi é aproximadamente: {pi}\")\n",
        "\n",
        "main()"
      ],
      "metadata": {
        "colab": {
          "base_uri": "https://localhost:8080/"
        },
        "id": "Mov6QfQ7f0Wz",
        "outputId": "3dc0341a-02bc-4c02-f213-6d7206fe41cc"
      },
      "execution_count": null,
      "outputs": [
        {
          "output_type": "stream",
          "name": "stdout",
          "text": [
            "Digite o valor de k: 100\n",
            "\n",
            "O valor de pi é aproximadamente: 3.1366421888703004\n"
          ]
        }
      ]
    },
    {
      "cell_type": "code",
      "source": [
        "# Programa que verifica se um ponto (x, y) está dentro de um círculo de raio 1 centrado na origem.\n",
        "\n",
        "def main():\n",
        "    # Entrada das coordenadas do ponto\n",
        "    x = float(input(\"Insira o valor x da coordenada: \"))\n",
        "    y = float(input(\"Insira o valor y da coordenada: \"))\n",
        "\n",
        "    # Verifica se o ponto está dentro do círculo\n",
        "    if (x**2 + y**2) <= 1:\n",
        "        print(\"\\nO ponto está dentro do círculo\")\n",
        "    else:\n",
        "        print(\"\\nO ponto está fora do círculo\")\n",
        "\n",
        "main()"
      ],
      "metadata": {
        "colab": {
          "base_uri": "https://localhost:8080/"
        },
        "id": "52JM-TQjnR8N",
        "outputId": "636ae60b-d6f3-42f0-f85a-e506ca3f696f"
      },
      "execution_count": null,
      "outputs": [
        {
          "output_type": "stream",
          "name": "stdout",
          "text": [
            "Insira o valor x da coordenada: 0.8\n",
            "Insira o valor y da coordenada: 0.5\n",
            "\n",
            "O ponto está dentro do círculo\n"
          ]
        }
      ]
    },
    {
      "cell_type": "code",
      "source": [
        "# Programa que estima o valor de pi usando o método de Monte Carlo com pontos aleatórios.\n",
        "\n",
        "import random\n",
        "\n",
        "def main():\n",
        "    # Número de pontos aleatórios\n",
        "    pontos = int(input(\"Quantas amostras? \"))\n",
        "    i = 0\n",
        "    matches = 0\n",
        "\n",
        "    # Gera pontos aleatórios e conta quantos caem dentro do círculo de raio 1\n",
        "    while i < pontos:\n",
        "        x = random.uniform(-1, 1)\n",
        "        y = random.uniform(-1, 1)\n",
        "        if (x**2 + y**2) <= 1:\n",
        "            matches += 1\n",
        "        i += 1\n",
        "\n",
        "    # Calcula e apresenta o valor de pi usando pi = 4 * probabilidade\n",
        "    probabilidade = matches / pontos\n",
        "    print(f\"\\nProbabilidade: {probabilidade}\")\n",
        "    print(f\"Valor de pi é aproximadamente {4 * probabilidade}\")\n",
        "\n",
        "main()"
      ],
      "metadata": {
        "colab": {
          "base_uri": "https://localhost:8080/"
        },
        "id": "0g1d8XckpfNz",
        "outputId": "73176c38-6442-45b4-dc5e-15dd569d2bdc"
      },
      "execution_count": null,
      "outputs": [
        {
          "output_type": "stream",
          "name": "stdout",
          "text": [
            "Quantas amostras? 900000\n",
            "\n",
            "Probabilidade: 0.7860922222222222\n",
            "Valor de pi é aproximadamente 3.1443688888888888\n"
          ]
        }
      ]
    }
  ]
}